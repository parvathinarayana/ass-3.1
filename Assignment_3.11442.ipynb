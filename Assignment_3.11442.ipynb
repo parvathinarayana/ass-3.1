{
 "cells": [
  {
   "cell_type": "markdown",
   "metadata": {},
   "source": [
    "#1.1"
   ]
  },
  {
   "cell_type": "code",
   "execution_count": 19,
   "metadata": {},
   "outputs": [
    {
     "name": "stdout",
     "output_type": "stream",
     "text": [
      "Enter the value of a = 5\n",
      "Enter the value of b = 6\n",
      "Enter the value of c = 8\n",
      "area : 14.981238266578634\n"
     ]
    }
   ],
   "source": [
    "    class Triangle:\n",
    "     \n",
    "        def __init__(self,a,b,c):\n",
    "            self.a = float(a)\n",
    "            self.b = float(b)\n",
    "            self.c = float(c)\n",
    "     \n",
    "        def area(self):\n",
    "            s=(self.a + self.b + self.c)/2\n",
    "            return((s*(s-self.a)*(s-self.b)*(s-self.c))**0.5)\n",
    "     \n",
    "    a=input(\"Enter the value of a = \")\n",
    "    b=input(\"Enter the value of b = \")\n",
    "    c=input(\"Enter the value of c = \")\n",
    "    t = Triangle(a, b, c)\n",
    "\n",
    "    print(\"area : {}\".format(t.area()))\n",
    "    "
   ]
  },
  {
   "cell_type": "markdown",
   "metadata": {},
   "source": [
    "   #1.2"
   ]
  },
  {
   "cell_type": "code",
   "execution_count": 17,
   "metadata": {},
   "outputs": [
    {
     "name": "stdout",
     "output_type": "stream",
     "text": [
      "take input: 2uhe,jijf,aojfdoijf\n",
      "3\n",
      "['2uhe', 'jijf', 'aojfdoijf']\n"
     ]
    }
   ],
   "source": [
    "\n",
    "\n",
    "def data(ss, num):\n",
    "\n",
    "    n_list = []\n",
    "\n",
    "    for i in range(len(ss)):\n",
    "        if len(ss[i]) > num:\n",
    "            n_list.append(ss[i])\n",
    "\n",
    "    print (n_list)\n",
    "\n",
    "list1 = input(\"take input: \")\n",
    "\n",
    "list = list1.split(\",\")\n",
    "\n",
    "def main():\n",
    "    global list, integer1\n",
    "    integer = input()\n",
    "    integer1 = int(integer)\n",
    "    data(list, integer1)\n",
    "\n",
    "main()"
   ]
  },
  {
   "cell_type": "code",
   "execution_count": null,
   "metadata": {},
   "outputs": [],
   "source": []
  },
  {
   "cell_type": "code",
   "execution_count": null,
   "metadata": {},
   "outputs": [],
   "source": []
  },
  {
   "cell_type": "code",
   "execution_count": null,
   "metadata": {},
   "outputs": [],
   "source": []
  },
  {
   "cell_type": "code",
   "execution_count": null,
   "metadata": {},
   "outputs": [],
   "source": []
  },
  {
   "cell_type": "code",
   "execution_count": null,
   "metadata": {},
   "outputs": [],
   "source": [
    "\n",
    "    "
   ]
  },
  {
   "cell_type": "markdown",
   "metadata": {},
   "source": [
    "#2.1"
   ]
  },
  {
   "cell_type": "code",
   "execution_count": 20,
   "metadata": {},
   "outputs": [
    {
     "name": "stdout",
     "output_type": "stream",
     "text": [
      "enter any character:r\n",
      "False\n"
     ]
    }
   ],
   "source": [
    "list=input('enter any character:')\n",
    "if (list =='a' or list=='A' or list=='e' or list=='E' or list =='i' or list=='I' or list=='o' or list=='O'or list=='u' or list=='U'):\n",
    "    print('True')\n",
    "else:\n",
    "    print('False')"
   ]
  },
  {
   "cell_type": "markdown",
   "metadata": {},
   "source": [
    "#2.2"
   ]
  },
  {
   "cell_type": "code",
   "execution_count": 21,
   "metadata": {},
   "outputs": [
    {
     "name": "stdout",
     "output_type": "stream",
     "text": [
      "please enter few words:paru,aporu,huro,arue\n",
      "[4, 5, 4, 4]\n"
     ]
    }
   ],
   "source": [
    "list=input('please enter few words:')\n",
    "list2=list.split(',')\n",
    "x=[]\n",
    "for i in list2:\n",
    "    p=len(i)\n",
    "    x.append(p)\n",
    "print(x)"
   ]
  },
  {
   "cell_type": "code",
   "execution_count": null,
   "metadata": {},
   "outputs": [],
   "source": []
  }
 ],
 "metadata": {
  "kernelspec": {
   "display_name": "Python 3",
   "language": "python",
   "name": "python3"
  },
  "language_info": {
   "codemirror_mode": {
    "name": "ipython",
    "version": 3
   },
   "file_extension": ".py",
   "mimetype": "text/x-python",
   "name": "python",
   "nbconvert_exporter": "python",
   "pygments_lexer": "ipython3",
   "version": "3.7.0"
  }
 },
 "nbformat": 4,
 "nbformat_minor": 2
}
